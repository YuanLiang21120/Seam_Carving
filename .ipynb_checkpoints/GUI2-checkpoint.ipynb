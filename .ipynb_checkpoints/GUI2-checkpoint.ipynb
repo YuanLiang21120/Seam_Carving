{
 "cells": [
  {
   "cell_type": "code",
   "execution_count": 1,
   "metadata": {
    "ExecuteTime": {
     "end_time": "2019-12-04T22:21:00.069450Z",
     "start_time": "2019-12-04T22:20:58.166124Z"
    }
   },
   "outputs": [],
   "source": [
    "import numpy as np\n",
    "import cv2\n",
    "from src import forward_energy, seam_carving\n",
    "import skvideo\n",
    "import skvideo.io\n",
    "from functools import partial\n",
    "import threading\n",
    "import imageio\n",
    "from PIL import Image, ImageTk"
   ]
  },
  {
   "cell_type": "code",
   "execution_count": 2,
   "metadata": {
    "ExecuteTime": {
     "end_time": "2019-12-04T22:21:00.086455Z",
     "start_time": "2019-12-04T22:21:00.075436Z"
    }
   },
   "outputs": [],
   "source": [
    "# yi po shi\n",
    "cut = []\n",
    "input_file = \"\"\n",
    "fps = 0\n",
    "cap = 0\n",
    "frame_count = 0\n",
    "vid_out = skvideo.io.FFmpegWriter(\"none.mp4\")"
   ]
  },
  {
   "cell_type": "code",
   "execution_count": 3,
   "metadata": {
    "ExecuteTime": {
     "end_time": "2019-12-04T22:21:00.133499Z",
     "start_time": "2019-12-04T22:21:00.093534Z"
    }
   },
   "outputs": [],
   "source": [
    "import tkinter as tk\n",
    "from tkinter import messagebox\n",
    "from tkinter import filedialog\n",
    "import tkinter.ttk as ttk\n",
    "# from tkinter.ttk import *\n",
    "from tkinter.ttk import Progressbar\n",
    "import os"
   ]
  },
  {
   "cell_type": "code",
   "execution_count": 4,
   "metadata": {
    "ExecuteTime": {
     "end_time": "2019-12-04T22:21:00.301364Z",
     "start_time": "2019-12-04T22:21:00.138783Z"
    }
   },
   "outputs": [
    {
     "data": {
      "text/plain": [
       "''"
      ]
     },
     "execution_count": 4,
     "metadata": {},
     "output_type": "execute_result"
    }
   ],
   "source": [
    "window = tk.Tk()\n",
    "window.title(\"VideoSeamCarving\")\n",
    "#style = Style()\n",
    "#style.theme_use('default')\n",
    "#style.configure(\"black.Horizontal.TProgressbar\", background='black')"
   ]
  },
  {
   "cell_type": "code",
   "execution_count": 5,
   "metadata": {
    "ExecuteTime": {
     "end_time": "2019-12-04T22:21:00.346039Z",
     "start_time": "2019-12-04T22:21:00.308589Z"
    }
   },
   "outputs": [],
   "source": [
    "# set up frame\n",
    "frame = tk.Frame(window, width=800, height=800, bg='lightblue', colormap=\"new\")\n",
    "frame.grid(row=0, column=0, sticky=\"NW\")\n",
    "frame.grid_propagate(0)\n",
    "frame.update()"
   ]
  },
  {
   "cell_type": "code",
   "execution_count": 6,
   "metadata": {
    "ExecuteTime": {
     "end_time": "2019-12-04T22:21:00.361705Z",
     "start_time": "2019-12-04T22:21:00.346039Z"
    }
   },
   "outputs": [],
   "source": [
    "# add title\n",
    "lbl_title = tk.Label(frame, text=\"Video Seam Carving\",\n",
    "                  font=(\"微软雅黑\", 25))\n",
    "lbl_title.place(x=400, y=25, anchor=\"center\")  # set position\n",
    "lbl_title.config(bg='lightblue')"
   ]
  },
  {
   "cell_type": "code",
   "execution_count": 7,
   "metadata": {
    "ExecuteTime": {
     "end_time": "2019-12-04T22:21:00.390596Z",
     "start_time": "2019-12-04T22:21:00.365141Z"
    }
   },
   "outputs": [],
   "source": [
    "# cut type selection\n",
    "# label\n",
    "lbl_cut = tk.Label(frame, text=\"Select Cut Type\", font=(\"微软雅黑\", 12))\n",
    "lbl_cut.place(x=200, y=100, anchor=\"center\")\n",
    "lbl_cut.config(bg='lightblue')\n",
    "# combo box\n",
    "cut_type = ttk.Combobox(frame)\n",
    "cut_type['values'] = (\"horizontal\", \"vertical\")\n",
    "cut_type.current(0)  # set the selected item\n",
    "cut_type.place(x=200, y=125, anchor=\"center\")"
   ]
  },
  {
   "cell_type": "code",
   "execution_count": 8,
   "metadata": {
    "ExecuteTime": {
     "end_time": "2019-12-04T22:21:00.440710Z",
     "start_time": "2019-12-04T22:21:00.397212Z"
    }
   },
   "outputs": [],
   "source": [
    "# cut number selection\n",
    "# label\n",
    "lbl_cut2 = tk.Label(frame, text=\"Input Seam Number\", font=(\"微软雅黑\", 12))\n",
    "lbl_cut2.place(x=400, y=100, anchor=\"center\")\n",
    "lbl_cut2.config(bg='lightblue')\n",
    "# entry\n",
    "cut_number = tk.Entry(frame, width=10)\n",
    "cut_number.place(x=400, y=125, anchor=\"center\")\n",
    "\n",
    "# handle set_cut event\n",
    "def set_cut(cut):\n",
    "    cut.append(cut_type.get())\n",
    "    cut.append(int(cut_number.get()))\n",
    "    # message box\n",
    "    messagebox.showinfo('cut parameter', f'Cut is set to {cut}!')\n",
    "    \n",
    "set_cut_with_arg = partial(set_cut, cut)\n",
    "\n",
    "# add button\n",
    "btn_set = tk.Button(frame, text=\"Cut set\", command=set_cut_with_arg)\n",
    "btn_set.place(x=600, y=125, anchor=\"center\")  # button position\n",
    "btn_set.config(height=3, width=10)"
   ]
  },
  {
   "cell_type": "code",
   "execution_count": 9,
   "metadata": {
    "ExecuteTime": {
     "end_time": "2019-12-04T22:21:00.479904Z",
     "start_time": "2019-12-04T22:21:00.445840Z"
    }
   },
   "outputs": [],
   "source": [
    "# input section\n",
    "# label\n",
    "lbl_input = tk.Label(frame, text=\"Select File\", font=(\"微软雅黑\", 12))\n",
    "lbl_input.place(x=200, y=200, anchor=\"center\")\n",
    "lbl_input.config(bg='lightblue')\n",
    "# handle input_file event\n",
    "\n",
    "\n",
    "def select_file():\n",
    "    # file = filedialog.askopenfilename(filetypes=((\"MOV Files\", \"*.mov\"),(\"MP4 Files\", \"*.mp4\"),(\"AVI Files\",\"*.avi\"))) # after choosing, file will hold the path\n",
    "    # after choosing, file will hold the path\n",
    "    global input_file\n",
    "    file = filedialog.askopenfilename(filetypes=(\n",
    "        (\"MP4 Files\", \"*.mp4\"), (\"MOV Files\", \"*.mov\"), (\"M4V Files\", \"*.m4v\")))\n",
    "    # input_file.append(file)\n",
    "    input_file = file\n",
    "    \n",
    "\n",
    "\n",
    "# select_file_with_arg = partial(select_file, input_file)\n",
    "\n",
    "\n",
    "def test():\n",
    "    global cap, fps, frame_count\n",
    "    cap = cv2.VideoCapture(input_file)\n",
    "    fps = cap.get(cv2.CAP_PROP_FPS)\n",
    "    frame_count = int(cap.get(cv2.CAP_PROP_FRAME_COUNT))\n",
    "    duration = frame_count / fps\n",
    "\n",
    "\n",
    "    minutes = int(duration / 60)\n",
    "    seconds = duration % 60\n",
    "    \n",
    "    messagebox.showinfo('input information',\n",
    "                        f'fps = {fps}\\n number of frames = {frame_count} \\n duration (S) = {duration} \\n duration (M:S) = {minutes} : {seconds}')\n",
    "\n",
    "\n",
    "# test_with_arg = partial(test, cap, fps, frame_count)\n",
    "\n",
    "# add button\n",
    "btn_input = tk.Button(frame, text=\"Select File\", command=select_file)\n",
    "btn_input.place(x=200, y=250, anchor=\"center\")\n",
    "btn_input.config(height=3, width=10)\n",
    "\n",
    "# for test only\n",
    "btn_test = tk.Button(frame, text=\"Input Set\", command=test)\n",
    "btn_test.place(x=600, y=250, anchor=\"center\")\n",
    "btn_test.config(height=3, width=10)"
   ]
  },
  {
   "cell_type": "code",
   "execution_count": 10,
   "metadata": {
    "ExecuteTime": {
     "end_time": "2019-12-04T22:21:00.509557Z",
     "start_time": "2019-12-04T22:21:00.487073Z"
    }
   },
   "outputs": [],
   "source": [
    "# output section\n",
    "# label\n",
    "lbl_out = tk.Label(frame, text=\"Output File Name\", font=(\"微软雅黑\", 12))\n",
    "lbl_out.place(x=200, y=350, anchor=\"center\")\n",
    "lbl_out.config(bg='lightblue')\n",
    "# entry\n",
    "output_name = tk.Entry(frame, width=10)\n",
    "output_name.place(x=200, y=375, anchor=\"center\")\n",
    "\n",
    "# handle output event\n",
    "\n",
    "\n",
    "def output():\n",
    "    global fps, vid_out\n",
    "    vid_out = skvideo.io.FFmpegWriter(output_name.get(),\n",
    "                                      outputdict={'-vcodec': 'libx264',\n",
    "                                                  '-pix_fmt': 'yuv420p',\n",
    "                                                  '-r': str(fps)})\n",
    "    # message box\n",
    "    messagebox.showinfo(\n",
    "        'Output information', f'Output file is set to {output_name.get()}!\\n check fps = {str(fps)}')\n",
    "\n",
    "\n",
    "# output_with_arg = partial(output, fps, vid_out)\n",
    "# add button\n",
    "btn_out = tk.Button(frame, text=\"Output set\", command=output)\n",
    "btn_out.place(x=600, y=375, anchor=\"center\")  # button position\n",
    "btn_out.config(height=3, width=10)"
   ]
  },
  {
   "cell_type": "code",
   "execution_count": 11,
   "metadata": {
    "ExecuteTime": {
     "end_time": "2019-12-04T22:21:00.547187Z",
     "start_time": "2019-12-04T22:21:00.512087Z"
    }
   },
   "outputs": [],
   "source": [
    "# run section (not finished)\n",
    "\n",
    "# handle run event\n",
    "\n",
    "\n",
    "def run():\n",
    "    global cut, cap, fps, frame_count, vid_out\n",
    "    \n",
    "    bar = Progressbar(frame, length=200)\n",
    "    bar.place(x=300, y=450)\n",
    "    bar['value'] = 0  # placeholder\n",
    "    i = 1\n",
    "\n",
    "    while cap.isOpened():\n",
    "        ret, frames = cap.read()\n",
    "        if ret:\n",
    "            #print(\"Carve frame: \" + str(i) + \"/\" + str(frame_count))\n",
    "            bar['value'] = i/frame_count*100\n",
    "            window.update_idletasks()\n",
    "            img, eimg = seam_carving(frames, forward_energy, cut[1], cut[0])\n",
    "            img = (img*255).astype(np.uint8)\n",
    "            img = cv2.cvtColor(img, cv2.COLOR_RGB2BGR)\n",
    "            vid_out.writeFrame(img)\n",
    "            cv2.imshow('frame', cv2.cvtColor(img, cv2.COLOR_BGR2RGB))\n",
    "            cv2.waitKey(int(fps))\n",
    "        else:\n",
    "            break\n",
    "        i += 1\n",
    "    \n",
    "    cap.release()\n",
    "    vid_out.close()\n",
    "    cv2.destroyAllWindows()\n",
    "\n",
    "\n",
    "# run_with_arg = partial(run, cut, cap, fps, frame_count, vid_out)\n",
    "\n",
    "# add button\n",
    "btn_run = tk.Button(window, text=\"Run\", command=run)\n",
    "btn_run.place(x=200, y=750, anchor=\"center\")\n",
    "btn_run.config(height=3, width=10)"
   ]
  },
  {
   "cell_type": "code",
   "execution_count": 12,
   "metadata": {
    "ExecuteTime": {
     "end_time": "2019-12-04T22:21:00.583414Z",
     "start_time": "2019-12-04T22:21:00.549879Z"
    }
   },
   "outputs": [],
   "source": [
    "# play section\n",
    "# handle play event\n",
    "def play():\n",
    "    global input_file, fps, output_name\n",
    "\n",
    "    video_original = input_file #This is your video file path\n",
    "    video_cut = output_name.get()\n",
    "    video1 = imageio.get_reader(video_original)\n",
    "    video2 = imageio.get_reader(video_cut)\n",
    "\n",
    "    def stream2(label):\n",
    "        \n",
    "        for image in video2.iter_data():\n",
    "            frame_image = ImageTk.PhotoImage(Image.fromarray(image))\n",
    "            label.config(image=frame_image)\n",
    "            label.image = frame_image\n",
    "            cv2.waitKey(int(fps))\n",
    "    \n",
    "    def stream(label):\n",
    "\n",
    "        for image in video1.iter_data():\n",
    "            frame_image = ImageTk.PhotoImage(Image.fromarray(image))\n",
    "            label.config(image=frame_image)\n",
    "            label.image = frame_image\n",
    "            cv2.waitKey(int(fps))\n",
    "    \n",
    "    \n",
    "\n",
    "    my_label = tk.Label(frame)\n",
    "    my_label.pack()\n",
    "    my_label.place(x=200, y=600, anchor=\"center\")\n",
    "    thread = threading.Thread(target=stream, args=(my_label,))\n",
    "    thread.daemon = 1\n",
    "    \n",
    "    \n",
    "    my_label2 = tk.Label(frame)\n",
    "    my_label2.pack()\n",
    "    my_label2.place(x=550, y=600, anchor=\"center\")\n",
    "    thread2 = threading.Thread(target=stream2, args=(my_label2,))\n",
    "    thread2.daemon = 1\n",
    "    \n",
    "    thread2.start()\n",
    "    thread.start()\n",
    "   \n",
    "\n",
    "# add button\n",
    "btn_play = tk.Button(window, text=\"Play\", command=play)\n",
    "btn_play.place(x=600, y=750, anchor=\"center\")\n",
    "btn_play.config(height=3, width=10)"
   ]
  },
  {
   "cell_type": "code",
   "execution_count": null,
   "metadata": {
    "ExecuteTime": {
     "start_time": "2019-12-04T22:20:58.257Z"
    }
   },
   "outputs": [],
   "source": [
    "# run\n",
    "window.mainloop()"
   ]
  },
  {
   "cell_type": "code",
   "execution_count": null,
   "metadata": {},
   "outputs": [],
   "source": []
  }
 ],
 "metadata": {
  "kernelspec": {
   "display_name": "Python 3",
   "language": "python",
   "name": "python3"
  },
  "language_info": {
   "codemirror_mode": {
    "name": "ipython",
    "version": 3
   },
   "file_extension": ".py",
   "mimetype": "text/x-python",
   "name": "python",
   "nbconvert_exporter": "python",
   "pygments_lexer": "ipython3",
   "version": "3.7.5"
  },
  "toc": {
   "base_numbering": 1,
   "nav_menu": {},
   "number_sections": true,
   "sideBar": true,
   "skip_h1_title": false,
   "title_cell": "Table of Contents",
   "title_sidebar": "Contents",
   "toc_cell": false,
   "toc_position": {},
   "toc_section_display": true,
   "toc_window_display": false
  },
  "varInspector": {
   "cols": {
    "lenName": 16,
    "lenType": 16,
    "lenVar": 40
   },
   "kernels_config": {
    "python": {
     "delete_cmd_postfix": "",
     "delete_cmd_prefix": "del ",
     "library": "var_list.py",
     "varRefreshCmd": "print(var_dic_list())"
    },
    "r": {
     "delete_cmd_postfix": ") ",
     "delete_cmd_prefix": "rm(",
     "library": "var_list.r",
     "varRefreshCmd": "cat(var_dic_list()) "
    }
   },
   "types_to_exclude": [
    "module",
    "function",
    "builtin_function_or_method",
    "instance",
    "_Feature"
   ],
   "window_display": false
  }
 },
 "nbformat": 4,
 "nbformat_minor": 2
}
