{
 "cells": [
  {
   "cell_type": "code",
   "execution_count": 1,
   "metadata": {
    "ExecuteTime": {
     "end_time": "2019-12-02T20:22:24.564066Z",
     "start_time": "2019-12-02T20:22:19.267459Z"
    }
   },
   "outputs": [],
   "source": [
    "import numpy as np\n",
    "import cv2\n",
    "from src import forward_energy, seam_carving\n",
    "import skvideo\n",
    "import skvideo.io"
   ]
  },
  {
   "cell_type": "code",
   "execution_count": 2,
   "metadata": {
    "ExecuteTime": {
     "end_time": "2019-12-02T20:22:25.744304Z",
     "start_time": "2019-12-02T20:22:25.733704Z"
    }
   },
   "outputs": [],
   "source": [
    "# yi po shi\n",
    "cut = []\n",
    "input_file = []\n",
    "fps = []\n",
    "cap = []\n",
    "frame_count = []\n",
    "vid_out = []"
   ]
  },
  {
   "cell_type": "code",
   "execution_count": 3,
   "metadata": {
    "ExecuteTime": {
     "end_time": "2019-12-02T20:22:28.371179Z",
     "start_time": "2019-12-02T20:22:28.263236Z"
    }
   },
   "outputs": [],
   "source": [
    "from tkinter import *\n",
    "from tkinter import messagebox\n",
    "from tkinter import filedialog\n",
    "from tkinter.ttk import *\n",
    "from tkinter.ttk import Progressbar\n",
    "import os"
   ]
  },
  {
   "cell_type": "code",
   "execution_count": 4,
   "metadata": {
    "ExecuteTime": {
     "end_time": "2019-12-02T20:22:30.722138Z",
     "start_time": "2019-12-02T20:22:30.274832Z"
    }
   },
   "outputs": [],
   "source": [
    "window = Tk()\n",
    "window.title(\"VideoSeamCarving\")\n",
    "style = Style()\n",
    "style.theme_use('default')\n",
    "style.configure(\"black.Horizontal.TProgressbar\", background='black')"
   ]
  },
  {
   "cell_type": "code",
   "execution_count": 5,
   "metadata": {
    "ExecuteTime": {
     "end_time": "2019-12-02T20:22:31.725470Z",
     "start_time": "2019-12-02T20:22:31.699065Z"
    }
   },
   "outputs": [],
   "source": [
    "# set up frame\n",
    "frame = Frame(window, width=1280, height=720)\n",
    "frame.grid(row=0, column=0, sticky=\"NW\")\n",
    "frame.grid_propagate(0)\n",
    "frame.update()"
   ]
  },
  {
   "cell_type": "code",
   "execution_count": 6,
   "metadata": {
    "ExecuteTime": {
     "end_time": "2019-12-02T20:22:33.641304Z",
     "start_time": "2019-12-02T20:22:33.613984Z"
    }
   },
   "outputs": [],
   "source": [
    "# add title\n",
    "lbl_title = Label(frame, text=\"Video Seam Carving\",\n",
    "                  font=(\"Helvetica Bold\", 25))\n",
    "lbl_title.place(x=640, y=25, anchor=\"center\")  # set position"
   ]
  },
  {
   "cell_type": "code",
   "execution_count": 7,
   "metadata": {
    "ExecuteTime": {
     "end_time": "2019-12-02T20:22:35.142494Z",
     "start_time": "2019-12-02T20:22:35.123721Z"
    }
   },
   "outputs": [],
   "source": [
    "# cut type selection\n",
    "# label\n",
    "lbl_cut = Label(frame, text=\"Select Cut Type\", font=(\"Helvetica Bold\", 15))\n",
    "lbl_cut.place(x=300, y=100, anchor=\"center\")\n",
    "# combo box\n",
    "cut_type = Combobox(frame)\n",
    "cut_type['values'] = (\"horizontal\", \"vertical\")\n",
    "cut_type.current(0)  # set the selected item\n",
    "cut_type.place(x=300, y=125, anchor=\"center\")"
   ]
  },
  {
   "cell_type": "code",
   "execution_count": 8,
   "metadata": {
    "ExecuteTime": {
     "end_time": "2019-12-02T20:22:36.538479Z",
     "start_time": "2019-12-02T20:22:36.526507Z"
    }
   },
   "outputs": [],
   "source": [
    "# cut number selection\n",
    "# label\n",
    "lbl_cut2 = Label(frame, text=\"Input Seam Number\", font=(\"Helvetica Bold\", 15))\n",
    "lbl_cut2.place(x=400, y=100, anchor=\"center\")\n",
    "\n",
    "# entry\n",
    "cut_number = Entry(frame, width=10)\n",
    "cut_number.place(x=400, y=125, anchor=\"center\")\n",
    "\n",
    "# handle set_cut event\n",
    "def set_cut():\n",
    "    cut.append(cut_type.get())\n",
    "    cut.append(int(cut_number.get()))\n",
    "    # message box\n",
    "    messagebox.showinfo('cut parameter', f'Cut is set to {cut}!')\n",
    "\n",
    "\n",
    "# add button\n",
    "btn_set = Button(frame, text=\"Cut set!\", command=set_cut)\n",
    "btn_set.place(x=600, y=125, anchor=\"center\")  # button position"
   ]
  },
  {
   "cell_type": "code",
   "execution_count": 9,
   "metadata": {
    "ExecuteTime": {
     "end_time": "2019-12-02T20:22:38.917737Z",
     "start_time": "2019-12-02T20:22:38.903465Z"
    }
   },
   "outputs": [],
   "source": [
    "# input section\n",
    "# label\n",
    "lbl_input = Label(frame, text=\"Select File\", font=(\"Helvetica Bold\", 15))\n",
    "lbl_input.place(x=300, y=300, anchor=\"center\")\n",
    "\n",
    "# handle input_file event\n",
    "\n",
    "\n",
    "def select_file():\n",
    "    # file = filedialog.askopenfilename(filetypes=((\"MOV Files\", \"*.mov\"),(\"MP4 Files\", \"*.mp4\"),(\"AVI Files\",\"*.avi\"))) # after choosing, file will hold the path\n",
    "    # after choosing, file will hold the path\n",
    "    file = filedialog.askopenfilename(filetypes=(\n",
    "        (\"MP4 Files\", \"*.mp4\"), (\"MOV Files\", \"*.mov\"), (\"M4V Files\", \"*.m4v\")))\n",
    "    input_file.append(file)\n",
    "\n",
    "\n",
    "def test():\n",
    "    #cap = cv2.VideoCapture(input_file[0])\n",
    "    cap.append(cv2.VideoCapture(input_file[0]))\n",
    "    #fps = cap.get(cv2.CAP_PROP_FPS)\n",
    "    fps.append(cap[0].get(cv2.CAP_PROP_FPS))\n",
    "    #frame_count = int(cap[0].get(cv2.CAP_PROP_FRAME_COUNT))\n",
    "    frame_count.append(int(cap[0].get(cv2.CAP_PROP_FRAME_COUNT)))\n",
    "    duration = frame_count[0] / fps[0]\n",
    "    #print('fps = ' + str(fps))\n",
    "    #print('number of frames = ' + str(frame_count))\n",
    "    #print('duration (S) = ' + str(duration))\n",
    "\n",
    "    minutes = int(duration / 60)\n",
    "    seconds = duration % 60\n",
    "    #print('duration (M:S) = ' + str(minutes) + ':' + str(seconds))\n",
    "    #messagebox.showinfo('input file',f'Input file is set to {input_file[0]}!')\n",
    "    messagebox.showinfo('input information',\n",
    "                        f'fps = {fps[0]}\\n number of frames = {frame_count} \\n duration (S) = {duration} \\n duration (M:S) = {minutes} : {seconds}')\n",
    "\n",
    "\n",
    "# add button\n",
    "btn_input = Button(frame, text=\"Select File\", command=select_file)\n",
    "btn_input.place(x=300, y=350, anchor=\"center\")\n",
    "\n",
    "# for test only\n",
    "btn_test = Button(frame, text=\"Input Set!\", command=test)\n",
    "btn_test.place(x=500, y=350, anchor=\"center\")"
   ]
  },
  {
   "cell_type": "code",
   "execution_count": 10,
   "metadata": {
    "ExecuteTime": {
     "end_time": "2019-12-02T20:23:25.507188Z",
     "start_time": "2019-12-02T20:23:25.495189Z"
    }
   },
   "outputs": [],
   "source": [
    "# output section\n",
    "# label\n",
    "lbl_out = Label(frame, text=\"Output File Name\", font=(\"Helvetica Bold\", 15))\n",
    "lbl_out.place(x=800, y=100, anchor=\"center\")\n",
    "\n",
    "# entry\n",
    "output_name = Entry(frame, width=10)\n",
    "output_name.place(x=800, y=125, anchor=\"center\")\n",
    "\n",
    "# handle output event\n",
    "def output():\n",
    "    vid_out.append(skvideo.io.FFmpegWriter(output_name.get(),\n",
    "                                           outputdict={'-vcodec': 'libx264',\n",
    "                                                       '-pix_fmt': 'yuv420p',\n",
    "                                                       '-r': str(fps[0])}))\n",
    "    # message box\n",
    "    messagebox.showinfo(\n",
    "        'Output information', f'Output file is set to {output_name.get()}!\\n check fps = {str(fps[0])}')\n",
    "\n",
    "\n",
    "# add button\n",
    "btn_out = Button(frame, text=\"Output set!\", command=output)\n",
    "btn_out.place(x=1000, y=125, anchor=\"center\")  # button position"
   ]
  },
  {
   "cell_type": "code",
   "execution_count": 11,
   "metadata": {
    "ExecuteTime": {
     "end_time": "2019-12-02T20:23:34.194126Z",
     "start_time": "2019-12-02T20:23:34.181667Z"
    }
   },
   "outputs": [],
   "source": [
    "# run section (not finished)\n",
    "\n",
    "# handle run event\n",
    "def run():\n",
    "    bar = Progressbar(frame, length=200)\n",
    "    bar.place(x=550, y=500)\n",
    "    bar['value'] = 0  # placeholder\n",
    "    i = 1\n",
    "\n",
    "    while cap[0].isOpened():\n",
    "        ret, frames = cap[0].read()\n",
    "        if ret:\n",
    "            #print(\"Carve frame: \" + str(i) + \"/\" + str(frame_count))\n",
    "            bar['value'] = i/frame_count[0]*100\n",
    "            window.update_idletasks()\n",
    "            img, eimg = seam_carving(frames, forward_energy, cut[1], cut[0])\n",
    "            img = (img*255).astype(np.uint8)\n",
    "            img = cv2.cvtColor(img, cv2.COLOR_RGB2BGR)\n",
    "            vid_out[0].writeFrame(img)\n",
    "            cv2.imshow('frame', cv2.cvtColor(img, cv2.COLOR_BGR2RGB))\n",
    "            cv2.waitKey(int(fps[0]))\n",
    "        else:\n",
    "            break\n",
    "        i += 1\n",
    "\n",
    "    cap[0].release()\n",
    "    vid_out[0].close()\n",
    "    cv2.destroyAllWindows()\n",
    "\n",
    "\n",
    "# add button\n",
    "btn_run = Button(window, text=\"Run!\", command=run)\n",
    "btn_run.place(x=640, y=680, anchor=\"center\")"
   ]
  },
  {
   "cell_type": "code",
   "execution_count": null,
   "metadata": {
    "ExecuteTime": {
     "start_time": "2019-12-02T20:23:35.991Z"
    }
   },
   "outputs": [
    {
     "name": "stderr",
     "output_type": "stream",
     "text": [
      "Exception in Tkinter callback\n",
      "Traceback (most recent call last):\n",
      "  File \"C:\\Users\\Yuan Liang\\Anaconda3\\lib\\tkinter\\__init__.py\", line 1705, in __call__\n",
      "    return self.func(*args)\n",
      "  File \"<ipython-input-10-f4f637753670>\", line 15, in output\n",
      "    '-r': str(fps[0])}))\n",
      "  File \"C:\\Users\\Yuan Liang\\Anaconda3\\lib\\site-packages\\skvideo\\io\\ffmpeg.py\", line 336, in __init__\n",
      "    assert str.encode(self.extension).lower() in _FFMPEG_SUPPORTED_ENCODERS, \"Unknown encoder extension: \" + self.extension.lower()\n",
      "AssertionError: Unknown encoder extension: .mv4\n"
     ]
    }
   ],
   "source": [
    "# run\n",
    "window.mainloop()"
   ]
  },
  {
   "cell_type": "code",
   "execution_count": null,
   "metadata": {},
   "outputs": [],
   "source": []
  }
 ],
 "metadata": {
  "kernelspec": {
   "display_name": "Python 3",
   "language": "python",
   "name": "python3"
  },
  "language_info": {
   "codemirror_mode": {
    "name": "ipython",
    "version": 3
   },
   "file_extension": ".py",
   "mimetype": "text/x-python",
   "name": "python",
   "nbconvert_exporter": "python",
   "pygments_lexer": "ipython3",
   "version": "3.7.5"
  },
  "toc": {
   "base_numbering": 1,
   "nav_menu": {},
   "number_sections": true,
   "sideBar": true,
   "skip_h1_title": false,
   "title_cell": "Table of Contents",
   "title_sidebar": "Contents",
   "toc_cell": false,
   "toc_position": {},
   "toc_section_display": true,
   "toc_window_display": false
  },
  "varInspector": {
   "cols": {
    "lenName": 16,
    "lenType": 16,
    "lenVar": 40
   },
   "kernels_config": {
    "python": {
     "delete_cmd_postfix": "",
     "delete_cmd_prefix": "del ",
     "library": "var_list.py",
     "varRefreshCmd": "print(var_dic_list())"
    },
    "r": {
     "delete_cmd_postfix": ") ",
     "delete_cmd_prefix": "rm(",
     "library": "var_list.r",
     "varRefreshCmd": "cat(var_dic_list()) "
    }
   },
   "types_to_exclude": [
    "module",
    "function",
    "builtin_function_or_method",
    "instance",
    "_Feature"
   ],
   "window_display": false
  }
 },
 "nbformat": 4,
 "nbformat_minor": 2
}
